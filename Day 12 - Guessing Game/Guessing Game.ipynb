{
 "cells": [
  {
   "cell_type": "code",
   "execution_count": 1,
   "id": "05688510",
   "metadata": {},
   "outputs": [],
   "source": [
    "import numpy as np\n",
    "import pandas as pd\n",
    "import html5lib\n",
    "import matplotlib.pyplot as plt\n",
    "import seaborn as sns\n",
    "import random\n",
    "import jupyterthemes as jt\n",
    "from jupyterthemes.stylefx import set_nb_theme\n",
    "\n",
    "%matplotlib inline \n",
    "\n",
    "# Allowing Jupyter output all results per cell.\n",
    "# run the following code in a Jupyter cell.\n",
    "from IPython.core.interactiveshell import InteractiveShell\n",
    "InteractiveShell.ast_node_interactivity = \"all\""
   ]
  },
  {
   "cell_type": "code",
   "execution_count": 28,
   "id": "ab7ae207",
   "metadata": {},
   "outputs": [
    {
     "name": "stdout",
     "output_type": "stream",
     "text": [
      "\n",
      "   ________                             \n",
      " /  _____/ __ __   ____   ______ ______\n",
      "/   \\  ___|  |  \\_/ __ \\ /  ___//  ___/\n",
      "\\    \\_\\  \\  |  /\\  ___/ \\___ \\ \\___ \\ \n",
      " \\______  /____/  \\___  >____  >____  >\n",
      "        \\/            \\/     \\/     \\/ \n",
      "        \n",
      "Welcome to the Guessing Game!\n",
      "I am thinking of a Number between 1 and 100\n",
      "[1, 2, 3, 4, 5, 6, 7, 8, 9, 10, 11, 12, 13, 14, 15, 16, 17, 18, 19, 20, 21, 22, 23, 24, 25, 26, 27, 28, 29, 30, 31, 32, 33, 34, 35, 36, 37, 38, 39, 40, 41, 42, 43, 44, 45, 46, 47, 48, 49, 50, 51, 52, 53, 54, 55, 56, 57, 58, 59, 60, 61, 62, 63, 64, 65, 66, 67, 68, 69, 70, 71, 72, 73, 74, 75, 76, 77, 78, 79, 80, 81, 82, 83, 84, 85, 86, 87, 88, 89, 90, 91, 92, 93, 94, 95, 96, 97, 98, 99, 100]\n",
      "Pssst... the number I picked is: 66\n",
      "Easy or Hard ?hard\n",
      "You have 5 attempts!\n",
      "Make a guess: 66\n",
      "Congrats\n",
      "Do you want to Play Again ? Yes or Nono\n"
     ]
    }
   ],
   "source": [
    "logo = \"\"\"\n",
    "   ________                             \n",
    " /  _____/ __ __   ____   ______ ______\n",
    "/   \\  ___|  |  \\_/ __ \\ /  ___//  ___/\n",
    "\\    \\_\\  \\  |  /\\  ___/ \\___ \\ \\___ \\ \n",
    " \\______  /____/  \\___  >____  >____  >\n",
    "        \\/            \\/     \\/     \\/ \n",
    "        \"\"\"\n",
    "print(logo)\n",
    "print(\"Welcome to the Guessing Game!\")\n",
    "print(\"I am thinking of a Number between 1 and 100\")\n",
    "\n",
    "play = True\n",
    "while play:\n",
    "    number_list = list(range(1,101))\n",
    "    print(number_list)\n",
    "\n",
    "    chosen_number = random.choice(number_list)\n",
    "    print(f\"Pssst... the number I picked is: {chosen_number}\")\n",
    "\n",
    "    difficulty = input(\"Easy or Hard ?\").lower()\n",
    "\n",
    "    if difficulty == \"easy\":\n",
    "        count = 10\n",
    "        print(f\"You have {count} attempts!\")\n",
    "        for i in range(1,count + 1):\n",
    "            user_guess = int(input(\"Make a guess: \"))\n",
    "            if user_guess < chosen_number:\n",
    "                print(\"Too Low\")\n",
    "            elif user_guess > chosen_number:\n",
    "                print(\"Too High\")\n",
    "            elif user_guess == chosen_number:\n",
    "                print(\"Congrats\")\n",
    "                break\n",
    "            count -= 1\n",
    "            print(f\"Remaining attemps are: {count}\")\n",
    "    if difficulty == \"hard\":\n",
    "        count = 5\n",
    "        print(f\"You have {count} attempts!\")\n",
    "        for i in range(1,count + 1):\n",
    "            user_guess = int(input(\"Make a guess: \"))\n",
    "            if user_guess < chosen_number:\n",
    "                print(\"Too Low\")\n",
    "            elif user_guess > chosen_number:\n",
    "                print(\"Too High\")\n",
    "            else:\n",
    "                print(\"Congrats\")\n",
    "                break\n",
    "            count -= 1\n",
    "            print(f\"Remaining attemps are: {count}\")\n",
    "    play_again = input(\"Do you want to Play Again ? Yes or No\\n\").lower()\n",
    "    if play_again == \"no\":\n",
    "        play = False"
   ]
  },
  {
   "cell_type": "code",
   "execution_count": null,
   "id": "beac3746",
   "metadata": {},
   "outputs": [],
   "source": []
  }
 ],
 "metadata": {
  "kernelspec": {
   "display_name": "Python 3 (ipykernel)",
   "language": "python",
   "name": "python3"
  },
  "language_info": {
   "codemirror_mode": {
    "name": "ipython",
    "version": 3
   },
   "file_extension": ".py",
   "mimetype": "text/x-python",
   "name": "python",
   "nbconvert_exporter": "python",
   "pygments_lexer": "ipython3",
   "version": "3.9.12"
  }
 },
 "nbformat": 4,
 "nbformat_minor": 5
}
