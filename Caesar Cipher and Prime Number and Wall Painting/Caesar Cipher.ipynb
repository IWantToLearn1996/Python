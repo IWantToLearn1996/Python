{
 "cells": [
  {
   "cell_type": "code",
   "execution_count": 1,
   "id": "0ca4ecd4",
   "metadata": {},
   "outputs": [],
   "source": [
    "import numpy as np\n",
    "import pandas as pd\n",
    "import html5lib\n",
    "import random\n",
    "import matplotlib.pyplot as plt\n",
    "import seaborn as sns\n",
    "import jupyterthemes as jt\n",
    "from jupyterthemes.stylefx import set_nb_theme\n",
    "\n",
    "#import sys\n",
    "#sys.path\n",
    "\n",
    "%matplotlib inline \n",
    "\n",
    "# Allowing Jupyter output all results per cell.\n",
    "# run the following code in a Jupyter cell.\n",
    "from IPython.core.interactiveshell import InteractiveShell\n",
    "InteractiveShell.ast_node_interactivity = \"all\""
   ]
  },
  {
   "cell_type": "code",
   "execution_count": 57,
   "id": "e97e28f0",
   "metadata": {},
   "outputs": [
    {
     "name": "stdout",
     "output_type": "stream",
     "text": [
      "Type ENCODE to encrypt or Type DECODE to decrypt: \n",
      "decode\n",
      "Type your Message: \n",
      "mjqqt 56 dwdw\n",
      "Give shift number: \n",
      " 5\n",
      "The DECODE Text is: hello 56 yryr \n",
      "Do you want to go again ? Yes/No YES\n",
      "Type ENCODE to encrypt or Type DECODE to decrypt: \n",
      "ENCODE\n",
      "Type your Message: \n",
      "wrfgrewgtegthy5h555\n",
      "Give shift number: \n",
      " 13\n",
      "The ENCODE Text is: jesterjtgrtgul5u555 \n",
      "Do you want to go again ? Yes/No nO\n"
     ]
    }
   ],
   "source": [
    "alphabet = ['a', 'b', 'c', 'd', 'e', 'f', 'g', 'h', 'i', 'j', 'k', 'l', 'm', 'n', 'o', 'p', 'q', 'r', 's', 't', 'u', 'v', 'w', 'x', 'y', 'z',\n",
    " 'a', 'b', 'c', 'd', 'e', 'f', 'g', 'h', 'i', 'j', 'k', 'l', 'm', 'n', 'o', 'p', 'q', 'r', 's', 't', 'u', 'v', 'w', 'x', 'y', 'z']\n",
    "\n",
    "go_again = \"yes\"\n",
    "while go_again == \"yes\": \n",
    "    direction = input(\"Type ENCODE to encrypt or Type DECODE to decrypt: \\n\").upper()\n",
    "    text = input(\"Type your Message: \\n\").lower()\n",
    "    shift = int(input(\"Give shift number: \\n \"))\n",
    "    \n",
    "    def caesar(t, s, d):\n",
    "        end_text = \"\"\n",
    "        if d == \"DECODE\":\n",
    "            s *= -1\n",
    "        for char in t:\n",
    "            if char in alphabet:\n",
    "                position = alphabet.index(char)\n",
    "                new_position = position + s\n",
    "                end_text += alphabet[new_position]\n",
    "            else:\n",
    "                end_text += char\n",
    "        print(f\"The {d} Text is: {end_text} \")\n",
    "    caesar(t = text, s = shift, d = direction)\n",
    "    go_again = input(\"Do you want to go again ? Yes/No \").lower()\n"
   ]
  },
  {
   "cell_type": "code",
   "execution_count": null,
   "id": "b812bb74",
   "metadata": {},
   "outputs": [],
   "source": []
  }
 ],
 "metadata": {
  "kernelspec": {
   "display_name": "Python 3 (ipykernel)",
   "language": "python",
   "name": "python3"
  },
  "language_info": {
   "codemirror_mode": {
    "name": "ipython",
    "version": 3
   },
   "file_extension": ".py",
   "mimetype": "text/x-python",
   "name": "python",
   "nbconvert_exporter": "python",
   "pygments_lexer": "ipython3",
   "version": "3.9.12"
  }
 },
 "nbformat": 4,
 "nbformat_minor": 5
}
