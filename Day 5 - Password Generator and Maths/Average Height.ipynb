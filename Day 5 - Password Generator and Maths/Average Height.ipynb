{
 "cells": [
  {
   "cell_type": "code",
   "execution_count": 1,
   "id": "7721b00a",
   "metadata": {},
   "outputs": [],
   "source": [
    "import numpy as np\n",
    "import pandas as pd\n",
    "import html5lib\n",
    "import random\n",
    "import matplotlib.pyplot as plt\n",
    "import seaborn as sns\n",
    "import jupyterthemes as jt\n",
    "from jupyterthemes.stylefx import set_nb_theme\n",
    "\n",
    "%matplotlib inline \n",
    "\n",
    "# Allowing Jupyter output all results per cell.\n",
    "# run the following code in a Jupyter cell.\n",
    "from IPython.core.interactiveshell import InteractiveShell\n",
    "InteractiveShell.ast_node_interactivity = \"all\"\n"
   ]
  },
  {
   "cell_type": "code",
   "execution_count": 13,
   "id": "9e935b58",
   "metadata": {},
   "outputs": [
    {
     "name": "stdout",
     "output_type": "stream",
     "text": [
      "Give a list of student heights  147 159 123 144 155 178 196 178 132\n",
      "['147', '159', '123', '144', '155', '178', '196', '178', '132']\n",
      "156.88888888888889\n",
      "157\n"
     ]
    }
   ],
   "source": [
    "Student_heights = input(\"Give a list of student heights \").split()\n",
    "print(Student_heights)\n",
    "\n",
    "total = 0\n",
    "for height in Student_heights:\n",
    "    total = total + int(height)\n",
    "    \n",
    "Avg = total / len(Student_heights)\n",
    "print(Avg)\n",
    "print(round(Avg))"
   ]
  },
  {
   "cell_type": "code",
   "execution_count": 15,
   "id": "057bf586",
   "metadata": {},
   "outputs": [
    {
     "name": "stdout",
     "output_type": "stream",
     "text": [
      "Give a list of student heights  147 159 123 144 155 178 196 178 132\n",
      "['147', '159', '123', '144', '155', '178', '196', '178', '132']\n",
      "[147, 159, 123, 144, 155, 178, 196, 178, 132]\n",
      "156.88888888888889\n",
      "157\n"
     ]
    }
   ],
   "source": [
    "Student_heights = input(\"Give a list of student heights \").split()\n",
    "print(Student_heights)\n",
    "\n",
    "for height in range (0, len(Student_heights)):\n",
    "    Student_heights[height] = int(Student_heights[height])\n",
    "print(Student_heights)\n",
    "\n",
    "Avg = sum(Student_heights) / len(Student_heights)\n",
    "print(Avg)\n",
    "print(round(Avg))\n"
   ]
  },
  {
   "cell_type": "code",
   "execution_count": null,
   "id": "28231c6c",
   "metadata": {},
   "outputs": [],
   "source": []
  }
 ],
 "metadata": {
  "kernelspec": {
   "display_name": "Python 3 (ipykernel)",
   "language": "python",
   "name": "python3"
  },
  "language_info": {
   "codemirror_mode": {
    "name": "ipython",
    "version": 3
   },
   "file_extension": ".py",
   "mimetype": "text/x-python",
   "name": "python",
   "nbconvert_exporter": "python",
   "pygments_lexer": "ipython3",
   "version": "3.9.12"
  }
 },
 "nbformat": 4,
 "nbformat_minor": 5
}
