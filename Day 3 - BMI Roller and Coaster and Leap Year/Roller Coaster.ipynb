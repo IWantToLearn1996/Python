{
 "cells": [
  {
   "cell_type": "code",
   "execution_count": 5,
   "id": "7ca6c9d6",
   "metadata": {},
   "outputs": [],
   "source": [
    "import numpy as np\n",
    "import pandas as pd\n",
    "import html5lib\n",
    "import matplotlib.pyplot as plt\n",
    "import seaborn as sns\n",
    "import jupyterthemes as jt\n",
    "from jupyterthemes.stylefx import set_nb_theme\n",
    "\n",
    "%matplotlib inline \n",
    "\n",
    "# Allowing Jupyter output all results per cell.\n",
    "# run the following code in a Jupyter cell.\n",
    "from IPython.core.interactiveshell import InteractiveShell\n",
    "InteractiveShell.ast_node_interactivity = \"all\"\n"
   ]
  },
  {
   "cell_type": "code",
   "execution_count": 11,
   "id": "feebf2d5",
   "metadata": {},
   "outputs": [
    {
     "name": "stdout",
     "output_type": "stream",
     "text": [
      "Give height: 180\n",
      "You CAN ride!\n",
      "Give age: 50\n",
      "Free Entrance\n",
      "Do you want a photo ? (Yes / No) Yes\n",
      "3 Euros\n",
      "Total Bill is 3\n"
     ]
    }
   ],
   "source": [
    "Height = int(input(\"Give height: \"))\n",
    "\n",
    "if Height >= 120:\n",
    "    print(\"You CAN ride!\")\n",
    "    Age = int(input(\"Give age: \"))\n",
    "    if Age >= 18:\n",
    "        if Age >= 45 and Age <= 55:\n",
    "            print(\"Free Entrance\")\n",
    "            bill = 0\n",
    "        else:\n",
    "            print(\"12 Euros\")\n",
    "            bill = 12\n",
    "    elif Age >= 12 and Age < 18:\n",
    "        print(\"7 Euros\")\n",
    "        bill = 7\n",
    "    else:\n",
    "        print(\"5 Euros\")\n",
    "        bill = 5\n",
    "        \n",
    "    Photo = input(\"Do you want a photo ? (Yes / No) \") \n",
    "    if Photo == \"Yes\":\n",
    "        print(\"3 Euros\")\n",
    "        bill = bill + 3\n",
    "        print(f\"Total Bill is {bill}\")\n",
    "    else:\n",
    "        print(f\"Total Bill is {bill}\")\n",
    "\n",
    "else:\n",
    "    print(\"You CAN NOT ride!\")"
   ]
  },
  {
   "cell_type": "code",
   "execution_count": null,
   "id": "79ef0eb9",
   "metadata": {},
   "outputs": [],
   "source": []
  }
 ],
 "metadata": {
  "kernelspec": {
   "display_name": "Python 3 (ipykernel)",
   "language": "python",
   "name": "python3"
  },
  "language_info": {
   "codemirror_mode": {
    "name": "ipython",
    "version": 3
   },
   "file_extension": ".py",
   "mimetype": "text/x-python",
   "name": "python",
   "nbconvert_exporter": "python",
   "pygments_lexer": "ipython3",
   "version": "3.9.12"
  }
 },
 "nbformat": 4,
 "nbformat_minor": 5
}
