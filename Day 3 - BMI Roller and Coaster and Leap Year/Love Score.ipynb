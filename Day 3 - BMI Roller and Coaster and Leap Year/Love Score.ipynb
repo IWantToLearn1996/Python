{
 "cells": [
  {
   "cell_type": "code",
   "execution_count": 4,
   "id": "7ca6c9d6",
   "metadata": {},
   "outputs": [],
   "source": [
    "import numpy as np\n",
    "import pandas as pd\n",
    "import html5lib\n",
    "import matplotlib.pyplot as plt\n",
    "import seaborn as sns\n",
    "import jupyterthemes as jt\n",
    "from jupyterthemes.stylefx import set_nb_theme\n",
    "\n",
    "%matplotlib inline \n",
    "\n",
    "# Allowing Jupyter output all results per cell.\n",
    "# run the following code in a Jupyter cell.\n",
    "from IPython.core.interactiveshell import InteractiveShell\n",
    "InteractiveShell.ast_node_interactivity = \"all\"\n"
   ]
  },
  {
   "cell_type": "code",
   "execution_count": 16,
   "id": "f58fc4b7",
   "metadata": {},
   "outputs": [
    {
     "name": "stdout",
     "output_type": "stream",
     "text": [
      "Love Calculator\n",
      "Give me your name: Kanye West\n",
      "Give me their name: Kim Kardashian\n",
      "T occurs 1 times\n",
      "R occurs 1 times \n",
      "U occurs 0 times \n",
      "E occurs 2 times\n",
      "Total is 4\n",
      " \n",
      "L occurs 0 times\n",
      "O occurs 0 times \n",
      "V occurs 0 times \n",
      "E occurs 2 times\n",
      "Total is 2\n",
      "Love Score is 42\n",
      "Your Love Score is 42, you are alright together\n"
     ]
    }
   ],
   "source": [
    "print(\"Love Calculator\")\n",
    "name1 = input(\"Give me your name: \")\n",
    "name2 = input(\"Give me their name: \")\n",
    "comb = name1 + name2\n",
    "\n",
    "t = comb.lower().count(\"t\")\n",
    "r = comb.lower().count(\"r\")\n",
    "u = comb.lower().count(\"u\")\n",
    "e = comb.lower().count(\"e\")\n",
    "print(f\"T occurs {t} times\\nR occurs {r} times \\nU occurs {u} times \\nE occurs {e} times\")\n",
    "Total1 = t+r+u+e\n",
    "print(f\"Total is {Total1}\")\n",
    "\n",
    "print(\" \")\n",
    "\n",
    "l = comb.lower().count(\"l\")\n",
    "o = comb.lower().count(\"o\")\n",
    "v = comb.lower().count(\"v\")\n",
    "e = comb.lower().count(\"e\")\n",
    "print(f\"L occurs {l} times\\nO occurs {o} times \\nV occurs {v} times \\nE occurs {e} times\")\n",
    "Total2 = l+o+v+e\n",
    "print(f\"Total is {Total2}\")\n",
    "\n",
    "LS = str(Total1) + str(Total2)\n",
    "print(f\"Love Score is {LS}\")\n",
    "\n",
    "if (int(LS) <= 10) or (int(LS) >= 90):\n",
    "    print(f\"Your Love Score is {LS}, you go together like Coke and Mentos\")\n",
    "elif (int(LS) >= 40) and (int(LS) <= 50):\n",
    "    print(f\"Your Love Score is {LS}, you are alright together\")\n",
    "else:\n",
    "    print(f\"Your Love Score is {LS}\")\n",
    "\n",
    "\n"
   ]
  },
  {
   "cell_type": "code",
   "execution_count": null,
   "id": "06d962c7",
   "metadata": {},
   "outputs": [],
   "source": []
  }
 ],
 "metadata": {
  "kernelspec": {
   "display_name": "Python 3 (ipykernel)",
   "language": "python",
   "name": "python3"
  },
  "language_info": {
   "codemirror_mode": {
    "name": "ipython",
    "version": 3
   },
   "file_extension": ".py",
   "mimetype": "text/x-python",
   "name": "python",
   "nbconvert_exporter": "python",
   "pygments_lexer": "ipython3",
   "version": "3.9.12"
  }
 },
 "nbformat": 4,
 "nbformat_minor": 5
}
