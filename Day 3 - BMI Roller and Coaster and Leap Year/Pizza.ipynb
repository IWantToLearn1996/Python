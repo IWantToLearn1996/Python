{
 "cells": [
  {
   "cell_type": "code",
   "execution_count": 4,
   "id": "7ca6c9d6",
   "metadata": {},
   "outputs": [],
   "source": [
    "import numpy as np\n",
    "import pandas as pd\n",
    "import html5lib\n",
    "import matplotlib.pyplot as plt\n",
    "import seaborn as sns\n",
    "import jupyterthemes as jt\n",
    "from jupyterthemes.stylefx import set_nb_theme\n",
    "\n",
    "%matplotlib inline \n",
    "\n",
    "# Allowing Jupyter output all results per cell.\n",
    "# run the following code in a Jupyter cell.\n",
    "from IPython.core.interactiveshell import InteractiveShell\n",
    "InteractiveShell.ast_node_interactivity = \"all\"\n"
   ]
  },
  {
   "cell_type": "code",
   "execution_count": 4,
   "id": "46ca8315",
   "metadata": {},
   "outputs": [
    {
     "name": "stdout",
     "output_type": "stream",
     "text": [
      "What Size of Pizza do you want? (S / M / L)L\n",
      "Do you want Peperoni ? (Yes / No)Yes\n",
      "Small Pizza with Peperoni \n",
      "28\n",
      "Do you want Extra Cheese ? (Yes / No)No\n",
      "28\n"
     ]
    }
   ],
   "source": [
    "Size = input(\"What Size of Pizza do you want? (S / M / L)\")\n",
    "\n",
    "if Size == \"S\":\n",
    "    price = 15\n",
    "    Pep = input(\"Do you want Peperoni ? (Yes / No)\")\n",
    "    if Pep == \"Yes\":\n",
    "        print(\"Small Pizza with Peperoni \")\n",
    "        price = price + 2 \n",
    "        print(price)\n",
    "    else:\n",
    "        price = 15\n",
    "        print(price)\n",
    "elif Size == \"M\":\n",
    "    price = 20\n",
    "    Pep = input(\"Do you want Peperoni ? (Yes / No)\")\n",
    "    if Pep == \"Yes\":\n",
    "        print(\"Small Pizza with Peperoni \")\n",
    "        price = price + 3 \n",
    "        print(price)\n",
    "    else:\n",
    "        price = 20\n",
    "        print(price)\n",
    "elif Size == \"L\":\n",
    "    price = 25\n",
    "    Pep = input(\"Do you want Peperoni ? (Yes / No)\")\n",
    "    if Pep == \"Yes\":\n",
    "        print(\"Small Pizza with Peperoni \")\n",
    "        price = price + 3\n",
    "        print(price)\n",
    "    else:\n",
    "        price = 25\n",
    "        print(price)\n",
    "else:\n",
    "    print(\"Wrong input\")\n",
    "\n",
    "Che = input(\"Do you want Extra Cheese ? (Yes / No)\")\n",
    "if Che == \"Yes\":\n",
    "    price = price + 1\n",
    "    print(price)\n",
    "else:\n",
    "    price = price\n",
    "    print(price)"
   ]
  },
  {
   "cell_type": "code",
   "execution_count": null,
   "id": "40b5b4e0",
   "metadata": {},
   "outputs": [],
   "source": []
  }
 ],
 "metadata": {
  "kernelspec": {
   "display_name": "Python 3 (ipykernel)",
   "language": "python",
   "name": "python3"
  },
  "language_info": {
   "codemirror_mode": {
    "name": "ipython",
    "version": 3
   },
   "file_extension": ".py",
   "mimetype": "text/x-python",
   "name": "python",
   "nbconvert_exporter": "python",
   "pygments_lexer": "ipython3",
   "version": "3.9.12"
  }
 },
 "nbformat": 4,
 "nbformat_minor": 5
}
