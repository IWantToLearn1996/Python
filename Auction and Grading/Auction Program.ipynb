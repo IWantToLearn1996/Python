{
 "cells": [
  {
   "cell_type": "code",
   "execution_count": 1,
   "id": "a33bcfe0",
   "metadata": {},
   "outputs": [],
   "source": [
    "import numpy as np\n",
    "import pandas as pd\n",
    "import html5lib\n",
    "import random\n",
    "import matplotlib.pyplot as plt\n",
    "import seaborn as sns\n",
    "import jupyterthemes as jt\n",
    "from jupyterthemes.stylefx import set_nb_theme\n",
    "\n",
    "#import sys\n",
    "#sys.path\n",
    "\n",
    "%matplotlib inline \n",
    "\n",
    "# Allowing Jupyter output all results per cell.\n",
    "# run the following code in a Jupyter cell.\n",
    "from IPython.core.interactiveshell import InteractiveShell\n",
    "InteractiveShell.ast_node_interactivity = \"all\""
   ]
  },
  {
   "cell_type": "code",
   "execution_count": 26,
   "id": "3de38440",
   "metadata": {},
   "outputs": [
    {
     "name": "stdout",
     "output_type": "stream",
     "text": [
      "What is your name?\n",
      "Nik\n",
      "What is your biding price?\n",
      "45\n",
      "{'Nik': 45}\n",
      "The winner is Nik with the bid of 45\n",
      "Is there anyone else ?\n",
      "K\n",
      "What is your name?\n",
      "Kost\n",
      "What is your biding price?\n",
      "22\n",
      "{'Nik': 45, 'Kost': 22}\n",
      "The winner is Nik with the bid of 45\n",
      "Is there anyone else ?\n",
      "no\n"
     ]
    }
   ],
   "source": [
    "logo = '''\n",
    "                         ___________\n",
    "                         \\         /\n",
    "                          )_______(\n",
    "                          |\"\"\"\"\"\"\"|_.-._,.---------.,_.-._\n",
    "                          |       | | |               | | ''-.\n",
    "                          |       |_| |_             _| |_..-'\n",
    "                          |_______| '-' `'---------'` '-'\n",
    "                          )\"\"\"\"\"\"\"(\n",
    "                         /_________\\\\\n",
    "                       .-------------.\n",
    "                      /_______________\\\\\n",
    "'''\n",
    "\n",
    "bid_dict = {}\n",
    "\n",
    "is_true = True\n",
    "while is_true:\n",
    "    name = input(\"What is your name?\\n\")\n",
    "    price = int(input(\"What is your biding price?\\n\"))\n",
    "    \n",
    "    bid_dict[name] = price\n",
    "    print(bid_dict)\n",
    "    \n",
    "    highest_bid = 0\n",
    "    winner = \"\"\n",
    "    for bidder in bid_dict:\n",
    "        bid_amount = (bid_dict[bidder])\n",
    "        if bid_amount > highest_bid:\n",
    "            highest_bid = bid_amount\n",
    "            winner = bidder \n",
    "    print(f\"The winner is {winner} with the bid of {highest_bid}\")\n",
    "          \n",
    "    any_others = input(\"Is there anyone else ?\\n\").lower()\n",
    "    if any_others == \"no\":\n",
    "\n",
    "        is_true = False\n",
    "    else:\n",
    "        continue"
   ]
  },
  {
   "cell_type": "code",
   "execution_count": null,
   "id": "eac6dc9b",
   "metadata": {},
   "outputs": [],
   "source": []
  }
 ],
 "metadata": {
  "kernelspec": {
   "display_name": "Python 3 (ipykernel)",
   "language": "python",
   "name": "python3"
  },
  "language_info": {
   "codemirror_mode": {
    "name": "ipython",
    "version": 3
   },
   "file_extension": ".py",
   "mimetype": "text/x-python",
   "name": "python",
   "nbconvert_exporter": "python",
   "pygments_lexer": "ipython3",
   "version": "3.9.12"
  }
 },
 "nbformat": 4,
 "nbformat_minor": 5
}
