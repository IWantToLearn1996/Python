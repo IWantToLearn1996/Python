{
 "cells": [
  {
   "cell_type": "code",
   "execution_count": 11,
   "id": "7721b00a",
   "metadata": {},
   "outputs": [],
   "source": [
    "import numpy as np\n",
    "import pandas as pd\n",
    "import html5lib\n",
    "import random\n",
    "import matplotlib.pyplot as plt\n",
    "import seaborn as sns\n",
    "import jupyterthemes as jt\n",
    "from jupyterthemes.stylefx import set_nb_theme\n",
    "\n",
    "%matplotlib inline \n",
    "\n",
    "# Allowing Jupyter output all results per cell.\n",
    "# run the following code in a Jupyter cell.\n",
    "from IPython.core.interactiveshell import InteractiveShell\n",
    "InteractiveShell.ast_node_interactivity = \"all\"\n"
   ]
  },
  {
   "cell_type": "code",
   "execution_count": 33,
   "id": "aae4cf0a",
   "metadata": {},
   "outputs": [
    {
     "name": "stdout",
     "output_type": "stream",
     "text": [
      "Welcome to the PyPassword Generator!\n",
      "How many letters would you like in your password?\n",
      "8\n",
      "How many symbols would you like?\n",
      "5\n",
      "How many numbers would you like?\n",
      "2\n",
      "['I', 'b', 'O', 'u', 'B', 'o', 'J', 'B']\n",
      "['+', '!', '(', '*', '#']\n",
      "['6', '6']\n",
      "The Password is: IBBu*O6o!6J+b(#\n"
     ]
    }
   ],
   "source": [
    "letters = ['a', 'b', 'c', 'd', 'e', 'f', 'g', 'h', 'i', 'j', 'k', 'l', 'm', 'n', 'o', 'p', 'q', 'r', 's', 't', 'u', 'v', 'w', 'x', 'y', 'z', 'A', 'B', 'C', 'D', 'E', 'F', 'G', 'H', 'I', 'J', 'K', 'L', 'M', 'N', 'O', 'P', 'Q', 'R', 'S', 'T', 'U', 'V', 'W', 'X', 'Y', 'Z']\n",
    "numbers = ['0', '1', '2', '3', '4', '5', '6', '7', '8', '9']\n",
    "symbols = ['!', '#', '$', '%', '&', '(', ')', '*', '+']\n",
    "\n",
    "print(\"Welcome to the PyPassword Generator!\")\n",
    "nr_letters= int(input(\"How many letters would you like in your password?\\n\")) \n",
    "nr_symbols = int(input(f\"How many symbols would you like?\\n\"))\n",
    "nr_numbers = int(input(f\"How many numbers would you like?\\n\"))\n",
    "\n",
    "let_list = []\n",
    "for nr in range(1, nr_letters + 1):\n",
    "    let_list.append(random.choice(letters))\n",
    "print(let_list)\n",
    "\n",
    "sym_list = []\n",
    "for nr in range(1, nr_symbols + 1):\n",
    "    sym_list.append(random.choice(symbols))\n",
    "print(sym_list)\n",
    "\n",
    "num_list = []\n",
    "for nr in range(1, nr_numbers + 1):\n",
    "    num_list.append(random.choice(numbers))\n",
    "print(num_list)\n",
    "\n",
    "Password_InOrder = let_list + sym_list + num_list\n",
    "Password_Shuffled = random.shuffle(Password_InOrder)\n",
    "\n",
    "def listToString(s):\n",
    " # initialize an empty string\n",
    "    str1 = \"\"\n",
    " # traverse in the string\n",
    "    for ele in s:\n",
    "        str1 += ele\n",
    " # return string\n",
    "    return str1\n",
    " \n",
    " # Driver code\n",
    "s = Password_InOrder\n",
    "\n",
    "print(f\"The Password is: {listToString(s)}\")\n"
   ]
  },
  {
   "cell_type": "code",
   "execution_count": null,
   "id": "63d4e525",
   "metadata": {},
   "outputs": [],
   "source": []
  }
 ],
 "metadata": {
  "kernelspec": {
   "display_name": "Python 3 (ipykernel)",
   "language": "python",
   "name": "python3"
  },
  "language_info": {
   "codemirror_mode": {
    "name": "ipython",
    "version": 3
   },
   "file_extension": ".py",
   "mimetype": "text/x-python",
   "name": "python",
   "nbconvert_exporter": "python",
   "pygments_lexer": "ipython3",
   "version": "3.9.12"
  }
 },
 "nbformat": 4,
 "nbformat_minor": 5
}
