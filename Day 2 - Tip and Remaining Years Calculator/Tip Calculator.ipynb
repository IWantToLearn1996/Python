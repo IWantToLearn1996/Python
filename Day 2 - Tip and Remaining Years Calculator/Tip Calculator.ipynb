{
 "cells": [
  {
   "cell_type": "code",
   "execution_count": 1,
   "id": "a74b4862",
   "metadata": {},
   "outputs": [],
   "source": [
    "import numpy as np\n",
    "import pandas as pd\n",
    "import html5lib\n",
    "import matplotlib.pyplot as plt\n",
    "import seaborn as sns\n",
    "import jupyterthemes as jt\n",
    "from jupyterthemes.stylefx import set_nb_theme\n",
    "\n",
    "%matplotlib inline \n",
    "\n",
    "# Allowing Jupyter output all results per cell.\n",
    "# run the following code in a Jupyter cell.\n",
    "from IPython.core.interactiveshell import InteractiveShell\n",
    "InteractiveShell.ast_node_interactivity = \"all\""
   ]
  },
  {
   "cell_type": "code",
   "execution_count": 11,
   "id": "31c43646",
   "metadata": {},
   "outputs": [
    {
     "name": "stdout",
     "output_type": "stream",
     "text": [
      "Give Total Bill: 154\n",
      "What Percentage of tip would you like to give ? 10, 12 or 15? 12\n",
      "How many people to split the bill: 5\n",
      "Each person should pay: 34.5\n"
     ]
    }
   ],
   "source": [
    "Total_bill = float(input(\"Give Total Bill: \"))\n",
    "Tip_percentage = int(input(\"What Percentage of tip would you like to give ? 10, 12 or 15? \"))\n",
    "People = int(input(\"How many people to split the bill: \"))\n",
    "\n",
    "Pay = (Total_bill + (Total_bill * Tip_percentage/100)) / People\n",
    "print(\"Each person should pay: \" + str(round(Pay, 2)))"
   ]
  },
  {
   "cell_type": "code",
   "execution_count": null,
   "id": "73604371",
   "metadata": {},
   "outputs": [],
   "source": []
  }
 ],
 "metadata": {
  "kernelspec": {
   "display_name": "Python 3 (ipykernel)",
   "language": "python",
   "name": "python3"
  },
  "language_info": {
   "codemirror_mode": {
    "name": "ipython",
    "version": 3
   },
   "file_extension": ".py",
   "mimetype": "text/x-python",
   "name": "python",
   "nbconvert_exporter": "python",
   "pygments_lexer": "ipython3",
   "version": "3.9.12"
  }
 },
 "nbformat": 4,
 "nbformat_minor": 5
}
