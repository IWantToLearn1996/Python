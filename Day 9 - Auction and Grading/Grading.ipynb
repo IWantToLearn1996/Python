{
 "cells": [
  {
   "cell_type": "code",
   "execution_count": 1,
   "id": "592db1b3",
   "metadata": {},
   "outputs": [],
   "source": [
    "import numpy as np\n",
    "import pandas as pd\n",
    "import html5lib\n",
    "import random\n",
    "import matplotlib.pyplot as plt\n",
    "import seaborn as sns\n",
    "import jupyterthemes as jt\n",
    "from jupyterthemes.stylefx import set_nb_theme\n",
    "\n",
    "#import sys\n",
    "#sys.path\n",
    "\n",
    "%matplotlib inline \n",
    "\n",
    "# Allowing Jupyter output all results per cell.\n",
    "# run the following code in a Jupyter cell.\n",
    "from IPython.core.interactiveshell import InteractiveShell\n",
    "InteractiveShell.ast_node_interactivity = \"all\""
   ]
  },
  {
   "cell_type": "code",
   "execution_count": 5,
   "id": "e0162dbd",
   "metadata": {},
   "outputs": [
    {
     "name": "stdout",
     "output_type": "stream",
     "text": [
      "{'Harry': 'Exceeds Expectations', 'Ron': 'Acceptable', 'Hermione': 'Outstanding', 'Draco': 'Acceptable', 'Neville': 'Fail'}\n"
     ]
    }
   ],
   "source": [
    "Student_Scores = {\n",
    "    \"Harry\" : 81,\n",
    "    \"Ron\" : 78,\n",
    "    \"Hermione\" : 99,\n",
    "    \"Draco\" : 74,\n",
    "    \"Neville\" : 62,\n",
    "}\n",
    "\n",
    "Student_Grades = {}\n",
    "\n",
    "for student in Student_Scores:\n",
    "    score = Student_Scores[student]\n",
    "    if score >= 91 and score <= 100:\n",
    "        Student_Grades[student] = \"Outstanding\"\n",
    "    elif score >= 81 and score <= 90:\n",
    "        Student_Grades[student] = \"Exceeds Expectations\"\n",
    "    elif score >= 71 and score <= 80:\n",
    "        Student_Grades[student] = \"Acceptable\"\n",
    "    else:\n",
    "        Student_Grades[student] = \"Fail\"\n",
    "        \n",
    "print(Student_Grades)\n",
    "\n"
   ]
  },
  {
   "cell_type": "code",
   "execution_count": null,
   "id": "a3e3b869",
   "metadata": {},
   "outputs": [],
   "source": []
  }
 ],
 "metadata": {
  "kernelspec": {
   "display_name": "Python 3 (ipykernel)",
   "language": "python",
   "name": "python3"
  },
  "language_info": {
   "codemirror_mode": {
    "name": "ipython",
    "version": 3
   },
   "file_extension": ".py",
   "mimetype": "text/x-python",
   "name": "python",
   "nbconvert_exporter": "python",
   "pygments_lexer": "ipython3",
   "version": "3.9.12"
  }
 },
 "nbformat": 4,
 "nbformat_minor": 5
}
