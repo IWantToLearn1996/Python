{
 "cells": [
  {
   "cell_type": "code",
   "execution_count": 2,
   "id": "8b4fdcff",
   "metadata": {},
   "outputs": [],
   "source": [
    "import numpy as np\n",
    "import pandas as pd\n",
    "import html5lib\n",
    "import matplotlib.pyplot as plt\n",
    "import seaborn as sns\n",
    "import jupyterthemes as jt\n",
    "from jupyterthemes.stylefx import set_nb_theme\n",
    "\n",
    "%matplotlib inline \n",
    "\n",
    "# Allowing Jupyter output all results per cell.\n",
    "# run the following code in a Jupyter cell.\n",
    "from IPython.core.interactiveshell import InteractiveShell\n",
    "InteractiveShell.ast_node_interactivity = \"all\""
   ]
  },
  {
   "cell_type": "code",
   "execution_count": 3,
   "id": "02c7f179",
   "metadata": {},
   "outputs": [
    {
     "name": "stdout",
     "output_type": "stream",
     "text": [
      "Give your curreny age: 26\n",
      "You have 23360.0, 3328.0 and 768.0 left.\n"
     ]
    }
   ],
   "source": [
    "Age = float(input(\"Give your curreny age: \"))\n",
    "\n",
    "Rem_Years = 90 - Age\n",
    "Months = Rem_Years * 12\n",
    "Weeks = Rem_Years * 52\n",
    "Days = Rem_Years * 365\n",
    "\n",
    "print(f\"You have {Days}, {Weeks} and {Months} left.\")"
   ]
  },
  {
   "cell_type": "code",
   "execution_count": null,
   "id": "454168d6",
   "metadata": {},
   "outputs": [],
   "source": []
  }
 ],
 "metadata": {
  "kernelspec": {
   "display_name": "Python 3 (ipykernel)",
   "language": "python",
   "name": "python3"
  },
  "language_info": {
   "codemirror_mode": {
    "name": "ipython",
    "version": 3
   },
   "file_extension": ".py",
   "mimetype": "text/x-python",
   "name": "python",
   "nbconvert_exporter": "python",
   "pygments_lexer": "ipython3",
   "version": "3.9.12"
  }
 },
 "nbformat": 4,
 "nbformat_minor": 5
}
