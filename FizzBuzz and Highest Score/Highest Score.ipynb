{
 "cells": [
  {
   "cell_type": "code",
   "execution_count": 1,
   "id": "7721b00a",
   "metadata": {},
   "outputs": [],
   "source": [
    "import numpy as np\n",
    "import pandas as pd\n",
    "import html5lib\n",
    "import random\n",
    "import matplotlib.pyplot as plt\n",
    "import seaborn as sns\n",
    "import jupyterthemes as jt\n",
    "from jupyterthemes.stylefx import set_nb_theme\n",
    "\n",
    "%matplotlib inline \n",
    "\n",
    "# Allowing Jupyter output all results per cell.\n",
    "# run the following code in a Jupyter cell.\n",
    "from IPython.core.interactiveshell import InteractiveShell\n",
    "InteractiveShell.ast_node_interactivity = \"all\"\n"
   ]
  },
  {
   "cell_type": "code",
   "execution_count": 9,
   "id": "3b98e620",
   "metadata": {},
   "outputs": [
    {
     "name": "stdout",
     "output_type": "stream",
     "text": [
      "Give Student Scores: 77 88\n",
      "The Highest Score is 88\n"
     ]
    }
   ],
   "source": [
    "Scores = input(\"Give Student Scores: \").split()\n",
    "\n",
    "Max_Score = 0\n",
    "for score in Scores:\n",
    "    score = int(score)\n",
    "    if Max_Score >= score:\n",
    "        Max_Score = Max_Score\n",
    "    else:\n",
    "        Max_Score = score\n",
    "print(f\"The Highest Score is {Max_Score}\")"
   ]
  },
  {
   "cell_type": "code",
   "execution_count": null,
   "id": "24a5fb94",
   "metadata": {},
   "outputs": [],
   "source": []
  }
 ],
 "metadata": {
  "kernelspec": {
   "display_name": "Python 3 (ipykernel)",
   "language": "python",
   "name": "python3"
  },
  "language_info": {
   "codemirror_mode": {
    "name": "ipython",
    "version": 3
   },
   "file_extension": ".py",
   "mimetype": "text/x-python",
   "name": "python",
   "nbconvert_exporter": "python",
   "pygments_lexer": "ipython3",
   "version": "3.9.12"
  }
 },
 "nbformat": 4,
 "nbformat_minor": 5
}
