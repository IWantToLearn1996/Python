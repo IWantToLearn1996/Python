{
 "cells": [
  {
   "cell_type": "code",
   "execution_count": 1,
   "id": "7ca6c9d6",
   "metadata": {},
   "outputs": [],
   "source": [
    "import numpy as np\n",
    "import pandas as pd\n",
    "import html5lib\n",
    "import matplotlib.pyplot as plt\n",
    "import seaborn as sns\n",
    "import jupyterthemes as jt\n",
    "from jupyterthemes.stylefx import set_nb_theme\n",
    "\n",
    "%matplotlib inline \n",
    "\n",
    "# Allowing Jupyter output all results per cell.\n",
    "# run the following code in a Jupyter cell.\n",
    "from IPython.core.interactiveshell import InteractiveShell\n",
    "InteractiveShell.ast_node_interactivity = \"all\"\n"
   ]
  },
  {
   "cell_type": "code",
   "execution_count": 5,
   "id": "8e5ad209",
   "metadata": {},
   "outputs": [
    {
     "name": "stdout",
     "output_type": "stream",
     "text": [
      "Give weight: 150\n",
      "Give height: 1.50\n",
      "Your BMI is 66.0\n",
      "You are CLINICALLY OBESE\n"
     ]
    }
   ],
   "source": [
    "w = input(\"Give weight: \")\n",
    "h = input(\"Give height: \")\n",
    "\n",
    "BMI = (int(w) // float(h)**2)\n",
    "print(f\"Your BMI is {BMI}\")\n",
    "\n",
    "if BMI <= 18.5:\n",
    "    print(\"You are UNDERWEIGHT\")\n",
    "elif BMI > 18.5 and BMI <= 25:\n",
    "    print(\"You are NORMAL WEIGHT\")\n",
    "elif BMI > 25 and BMI <= 30:\n",
    "    print(\"You are OVERWEIGHT\")\n",
    "elif BMI > 30 and BMI <= 35:\n",
    "    print(\"You are OBESE\")\n",
    "else:\n",
    "    print(\"You are CLINICALLY OBESE\")"
   ]
  },
  {
   "cell_type": "code",
   "execution_count": null,
   "id": "32f675a9",
   "metadata": {},
   "outputs": [],
   "source": []
  }
 ],
 "metadata": {
  "kernelspec": {
   "display_name": "Python 3 (ipykernel)",
   "language": "python",
   "name": "python3"
  },
  "language_info": {
   "codemirror_mode": {
    "name": "ipython",
    "version": 3
   },
   "file_extension": ".py",
   "mimetype": "text/x-python",
   "name": "python",
   "nbconvert_exporter": "python",
   "pygments_lexer": "ipython3",
   "version": "3.9.12"
  }
 },
 "nbformat": 4,
 "nbformat_minor": 5
}
