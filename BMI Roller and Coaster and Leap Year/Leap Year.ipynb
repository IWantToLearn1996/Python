{
 "cells": [
  {
   "cell_type": "code",
   "execution_count": 4,
   "id": "7ca6c9d6",
   "metadata": {},
   "outputs": [],
   "source": [
    "import numpy as np\n",
    "import pandas as pd\n",
    "import html5lib\n",
    "import matplotlib.pyplot as plt\n",
    "import seaborn as sns\n",
    "import jupyterthemes as jt\n",
    "from jupyterthemes.stylefx import set_nb_theme\n",
    "\n",
    "%matplotlib inline \n",
    "\n",
    "# Allowing Jupyter output all results per cell.\n",
    "# run the following code in a Jupyter cell.\n",
    "from IPython.core.interactiveshell import InteractiveShell\n",
    "InteractiveShell.ast_node_interactivity = \"all\"\n"
   ]
  },
  {
   "cell_type": "code",
   "execution_count": 1,
   "id": "e29f9d68",
   "metadata": {},
   "outputs": [
    {
     "name": "stdout",
     "output_type": "stream",
     "text": [
      "Enter a year: 2088\n",
      "The 2088 year is a Leap Year!\n"
     ]
    }
   ],
   "source": [
    "Year = int(input(\"Enter a year: \"))\n",
    "\n",
    "if Year % 4 == 0:\n",
    "    if Year % 100 == 0:\n",
    "        if Year % 400 == 0:\n",
    "            print(f\"The {Year} year is a Leap Year!\")\n",
    "        else:\n",
    "            print(f\"The {Year} year is NOT a Leap Year!\")\n",
    "    else:\n",
    "        print(f\"The {Year} year is a Leap Year!\")\n",
    "else:\n",
    "    print(f\"The {Year} year is NOT a Leap Year!\")"
   ]
  },
  {
   "cell_type": "code",
   "execution_count": null,
   "id": "fd3b62e3",
   "metadata": {},
   "outputs": [],
   "source": []
  }
 ],
 "metadata": {
  "kernelspec": {
   "display_name": "Python 3 (ipykernel)",
   "language": "python",
   "name": "python3"
  },
  "language_info": {
   "codemirror_mode": {
    "name": "ipython",
    "version": 3
   },
   "file_extension": ".py",
   "mimetype": "text/x-python",
   "name": "python",
   "nbconvert_exporter": "python",
   "pygments_lexer": "ipython3",
   "version": "3.9.12"
  }
 },
 "nbformat": 4,
 "nbformat_minor": 5
}
