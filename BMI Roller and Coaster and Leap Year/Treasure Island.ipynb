{
 "cells": [
  {
   "cell_type": "code",
   "execution_count": 4,
   "id": "7ca6c9d6",
   "metadata": {},
   "outputs": [],
   "source": [
    "import numpy as np\n",
    "import pandas as pd\n",
    "import html5lib\n",
    "import matplotlib.pyplot as plt\n",
    "import seaborn as sns\n",
    "import jupyterthemes as jt\n",
    "from jupyterthemes.stylefx import set_nb_theme\n",
    "\n",
    "%matplotlib inline \n",
    "\n",
    "# Allowing Jupyter output all results per cell.\n",
    "# run the following code in a Jupyter cell.\n",
    "from IPython.core.interactiveshell import InteractiveShell\n",
    "InteractiveShell.ast_node_interactivity = \"all\"\n"
   ]
  },
  {
   "cell_type": "code",
   "execution_count": 9,
   "id": "592cb8f2",
   "metadata": {},
   "outputs": [
    {
     "name": "stdout",
     "output_type": "stream",
     "text": [
      "Welcome to the Treasure Island\n",
      "Left or Right ?\n",
      "left\n",
      "Swim or Wait\n",
      "wait\n",
      "Which Door ? (Red / Yellow / Blue)\n",
      "red\n",
      "GAME OVER\n"
     ]
    }
   ],
   "source": [
    "print(\"Welcome to the Treasure Island\")\n",
    "\n",
    "Choice1 = input(\"Left or Right ?\\n\").upper()\n",
    "if Choice1 == \"LEFT\":\n",
    "    Choice2 = input(\"Swim or Wait\\n\").upper()\n",
    "    if Choice2 == \"WAIT\":\n",
    "        Choice3 = input(\"Which Door ? (Red / Yellow / Blue)\\n\").upper()\n",
    "        if Choice3 == \"YELLOW\":\n",
    "            print(\"WIN\")\n",
    "        else:\n",
    "            print(\"GAME OVER\")\n",
    "    else:\n",
    "        print(\"GAME OVER\")\n",
    "else:\n",
    "    print(\"GAME OVER\")"
   ]
  },
  {
   "cell_type": "code",
   "execution_count": null,
   "id": "e0e4505b",
   "metadata": {},
   "outputs": [],
   "source": []
  }
 ],
 "metadata": {
  "kernelspec": {
   "display_name": "Python 3 (ipykernel)",
   "language": "python",
   "name": "python3"
  },
  "language_info": {
   "codemirror_mode": {
    "name": "ipython",
    "version": 3
   },
   "file_extension": ".py",
   "mimetype": "text/x-python",
   "name": "python",
   "nbconvert_exporter": "python",
   "pygments_lexer": "ipython3",
   "version": "3.9.12"
  }
 },
 "nbformat": 4,
 "nbformat_minor": 5
}
