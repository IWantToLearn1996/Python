{
 "cells": [
  {
   "cell_type": "code",
   "execution_count": 1,
   "id": "ed8a3172",
   "metadata": {},
   "outputs": [],
   "source": [
    "import numpy as np\n",
    "import pandas as pd\n",
    "import html5lib\n",
    "import random\n",
    "import matplotlib.pyplot as plt\n",
    "import seaborn as sns\n",
    "import jupyterthemes as jt\n",
    "from jupyterthemes.stylefx import set_nb_theme\n",
    "\n",
    "#import sys\n",
    "#sys.path\n",
    "\n",
    "%matplotlib inline \n",
    "\n",
    "# Allowing Jupyter output all results per cell.\n",
    "# run the following code in a Jupyter cell.\n",
    "from IPython.core.interactiveshell import InteractiveShell\n",
    "InteractiveShell.ast_node_interactivity = \"all\""
   ]
  },
  {
   "cell_type": "code",
   "execution_count": 20,
   "id": "8a137f25",
   "metadata": {},
   "outputs": [
    {
     "name": "stdout",
     "output_type": "stream",
     "text": [
      "Give a Number: 31\n",
      "The Number is Prime\n"
     ]
    }
   ],
   "source": [
    "Number = int(input(\"Give a Number: \"))\n",
    "\n",
    "def checker(n):\n",
    "    is_prime = True\n",
    "    for i in range (2, n):\n",
    "        if n % i == 0:\n",
    "            is_prime = False\n",
    "    if is_prime:\n",
    "        print(\"The Number is Prime\")\n",
    "    else:\n",
    "        print(\"The Number is Not Prime\")\n",
    "            \n",
    "checker(n = Number)"
   ]
  },
  {
   "cell_type": "code",
   "execution_count": null,
   "id": "151c2247",
   "metadata": {},
   "outputs": [],
   "source": []
  }
 ],
 "metadata": {
  "kernelspec": {
   "display_name": "Python 3 (ipykernel)",
   "language": "python",
   "name": "python3"
  },
  "language_info": {
   "codemirror_mode": {
    "name": "ipython",
    "version": 3
   },
   "file_extension": ".py",
   "mimetype": "text/x-python",
   "name": "python",
   "nbconvert_exporter": "python",
   "pygments_lexer": "ipython3",
   "version": "3.9.12"
  }
 },
 "nbformat": 4,
 "nbformat_minor": 5
}
