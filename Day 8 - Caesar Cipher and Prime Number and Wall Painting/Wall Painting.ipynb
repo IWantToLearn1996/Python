{
 "cells": [
  {
   "cell_type": "code",
   "execution_count": 1,
   "id": "5081660a",
   "metadata": {},
   "outputs": [],
   "source": [
    "import numpy as np\n",
    "import pandas as pd\n",
    "import html5lib\n",
    "import random\n",
    "import matplotlib.pyplot as plt\n",
    "import seaborn as sns\n",
    "import jupyterthemes as jt\n",
    "from jupyterthemes.stylefx import set_nb_theme\n",
    "\n",
    "#import sys\n",
    "#sys.path\n",
    "\n",
    "%matplotlib inline \n",
    "\n",
    "# Allowing Jupyter output all results per cell.\n",
    "# run the following code in a Jupyter cell.\n",
    "from IPython.core.interactiveshell import InteractiveShell\n",
    "InteractiveShell.ast_node_interactivity = \"all\""
   ]
  },
  {
   "cell_type": "code",
   "execution_count": 4,
   "id": "b0c1b731",
   "metadata": {},
   "outputs": [
    {
     "name": "stdout",
     "output_type": "stream",
     "text": [
      "Give Height: 2\n",
      "Give Width: 4\n",
      "Give Can coverage: 5\n",
      "1.6\n",
      "2\n"
     ]
    }
   ],
   "source": [
    "height = int(input(\"Give Height: \"))\n",
    "width = int(input(\"Give Width: \"))\n",
    "coverage = int(input(\"Give Can coverage: \"))\n",
    "\n",
    "def paint(h, w, c):\n",
    "    N = (h * w) / c\n",
    "    print(N)\n",
    "    print(round(N))\n",
    "\n",
    "paint(h = height, w = width, c = coverage)"
   ]
  },
  {
   "cell_type": "code",
   "execution_count": null,
   "id": "3b7912f8",
   "metadata": {},
   "outputs": [],
   "source": []
  }
 ],
 "metadata": {
  "kernelspec": {
   "display_name": "Python 3 (ipykernel)",
   "language": "python",
   "name": "python3"
  },
  "language_info": {
   "codemirror_mode": {
    "name": "ipython",
    "version": 3
   },
   "file_extension": ".py",
   "mimetype": "text/x-python",
   "name": "python",
   "nbconvert_exporter": "python",
   "pygments_lexer": "ipython3",
   "version": "3.9.12"
  }
 },
 "nbformat": 4,
 "nbformat_minor": 5
}
