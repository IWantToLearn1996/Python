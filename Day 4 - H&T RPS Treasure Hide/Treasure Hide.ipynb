{
 "cells": [
  {
   "cell_type": "code",
   "execution_count": 1,
   "id": "487ad2b1",
   "metadata": {},
   "outputs": [],
   "source": [
    "import numpy as np\n",
    "import pandas as pd\n",
    "import html5lib\n",
    "import random\n",
    "import matplotlib.pyplot as plt\n",
    "import seaborn as sns\n",
    "import jupyterthemes as jt\n",
    "from jupyterthemes.stylefx import set_nb_theme\n",
    "\n",
    "%matplotlib inline \n",
    "\n",
    "# Allowing Jupyter output all results per cell.\n",
    "# run the following code in a Jupyter cell.\n",
    "from IPython.core.interactiveshell import InteractiveShell\n",
    "InteractiveShell.ast_node_interactivity = \"all\"\n"
   ]
  },
  {
   "cell_type": "code",
   "execution_count": 23,
   "id": "a6513648",
   "metadata": {},
   "outputs": [
    {
     "name": "stdout",
     "output_type": "stream",
     "text": [
      "['_', '_', '_']\n",
      "['_', '_', '_']\n",
      "['_', '_', '_']\n",
      "Where? 22\n",
      "['_', '_', '_']\n",
      "['_', 'X', '_']\n",
      "['_', '_', '_']\n"
     ]
    }
   ],
   "source": [
    "row1 = [\"_\", \"_\", \"_\"]\n",
    "row2 = [\"_\", \"_\", \"_\"]\n",
    "row3 = [\"_\", \"_\", \"_\"]\n",
    "map = [row1, row2, row3]\n",
    "print(f\"{row1}\\n{row2}\\n{row3}\")\n",
    "\n",
    "position = input(\"Where? \")\n",
    "\n",
    "horizontal = int(position[0])\n",
    "vertical = int(position[1])\n",
    "\n",
    "selected_row = map[vertical - 1]\n",
    "selected_row[horizontal -1] = \"X\"\n",
    "\n",
    "print(f\"{row1}\\n{row2}\\n{row3}\")"
   ]
  },
  {
   "cell_type": "code",
   "execution_count": 26,
   "id": "89fbcef1",
   "metadata": {},
   "outputs": [
    {
     "name": "stdout",
     "output_type": "stream",
     "text": [
      "['_', '_', '_', '_', '_', '_']\n",
      "['_', '_', '_', '_', '_', '_']\n",
      "['_', '_', '_', '_', '_', '_']\n",
      "['_', '_', '_', '_', '_', '_']\n",
      "['_', '_', '_', '_', '_', '_']\n",
      "['_', '_', '_', '_', '_', '_']\n",
      "Where are you going to hide the treasure???56\n",
      "['_', '_', '_', '_', '_', '_']\n",
      "['_', '_', '_', '_', '_', '_']\n",
      "['_', '_', '_', '_', '_', '_']\n",
      "['_', '_', '_', '_', '_', '_']\n",
      "['_', '_', '_', '_', '_', '_']\n",
      "['_', '_', '_', '_', 'X', '_']\n"
     ]
    }
   ],
   "source": [
    "row1 = [\"_\", \"_\", \"_\", \"_\", \"_\", \"_\"]\n",
    "row2 = [\"_\", \"_\", \"_\", \"_\", \"_\", \"_\"]\n",
    "row3 = [\"_\", \"_\", \"_\", \"_\", \"_\", \"_\"]\n",
    "row4 = [\"_\", \"_\", \"_\", \"_\", \"_\", \"_\"]\n",
    "row5 = [\"_\", \"_\", \"_\", \"_\", \"_\", \"_\"]\n",
    "row6 = [\"_\", \"_\", \"_\", \"_\", \"_\", \"_\"]\n",
    "map = [row1, row2, row3, row4, row5, row6]\n",
    "print(f\"{row1}\\n{row2}\\n{row3}\\n{row4}\\n{row5}\\n{row6}\")\n",
    "\n",
    "position = input(\"Where are you going to hide the treasure???\")\n",
    "\n",
    "horizontal = int(position[0])\n",
    "vertical = int(position[1])\n",
    "\n",
    "selected_row = map[vertical - 1]\n",
    "selected_row[horizontal - 1] = \"X\"\n",
    "print(f\"{row1}\\n{row2}\\n{row3}\\n{row4}\\n{row5}\\n{row6}\")\n"
   ]
  },
  {
   "cell_type": "code",
   "execution_count": null,
   "id": "e5cb9dbe",
   "metadata": {},
   "outputs": [],
   "source": []
  }
 ],
 "metadata": {
  "kernelspec": {
   "display_name": "Python 3 (ipykernel)",
   "language": "python",
   "name": "python3"
  },
  "language_info": {
   "codemirror_mode": {
    "name": "ipython",
    "version": 3
   },
   "file_extension": ".py",
   "mimetype": "text/x-python",
   "name": "python",
   "nbconvert_exporter": "python",
   "pygments_lexer": "ipython3",
   "version": "3.9.12"
  }
 },
 "nbformat": 4,
 "nbformat_minor": 5
}
