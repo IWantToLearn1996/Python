{
 "cells": [
  {
   "cell_type": "code",
   "execution_count": 1,
   "id": "487ad2b1",
   "metadata": {},
   "outputs": [],
   "source": [
    "import numpy as np\n",
    "import pandas as pd\n",
    "import html5lib\n",
    "import random\n",
    "import matplotlib.pyplot as plt\n",
    "import seaborn as sns\n",
    "import jupyterthemes as jt\n",
    "from jupyterthemes.stylefx import set_nb_theme\n",
    "\n",
    "%matplotlib inline \n",
    "\n",
    "# Allowing Jupyter output all results per cell.\n",
    "# run the following code in a Jupyter cell.\n",
    "from IPython.core.interactiveshell import InteractiveShell\n",
    "InteractiveShell.ast_node_interactivity = \"all\"\n"
   ]
  },
  {
   "cell_type": "code",
   "execution_count": 75,
   "id": "05481808",
   "metadata": {
    "scrolled": true
   },
   "outputs": [
    {
     "name": "stdout",
     "output_type": "stream",
     "text": [
      "Rock / Paper / Scissors ?\n",
      "Scissors\n",
      "\n",
      "    _______\n",
      "---'   ____)____\n",
      "          ______)\n",
      "       __________)\n",
      "      (____)\n",
      "---.__(___)\n",
      " \n",
      "and \n",
      "    _______\n",
      "---'   ____)\n",
      "      (_____)\n",
      "      (_____)\n",
      "      (____)\n",
      "---.__(___)\n",
      " \n",
      "Computer WINS\n"
     ]
    }
   ],
   "source": [
    "Rock = '''\n",
    "    _______\n",
    "---'   ____)\n",
    "      (_____)\n",
    "      (_____)\n",
    "      (____)\n",
    "---.__(___)\n",
    "'''\n",
    "\n",
    "Paper = '''\n",
    "    _______\n",
    "---'   ____)____\n",
    "          ______)\n",
    "          _______)\n",
    "         _______)\n",
    "---.__________)\n",
    "'''\n",
    "\n",
    "Scissors = '''\n",
    "    _______\n",
    "---'   ____)____\n",
    "          ______)\n",
    "       __________)\n",
    "      (____)\n",
    "---.__(___)\n",
    "'''\n",
    "\n",
    "List = [Rock, Paper, Scissors]\n",
    "Computer = str((random.choice(List)))\n",
    "\n",
    "User = input(\"Rock / Paper / Scissors ?\\n\")\n",
    "if User == \"Rock\":\n",
    "    User = List[0]\n",
    "elif User == \"Paper\":\n",
    "    User = List[1]\n",
    "else:\n",
    "    User = List[2]\n",
    "    \n",
    "if User == List[0] and Computer == List[2]:\n",
    "    print(f\" {User} \\nand {Computer} \\nUser WINS\")\n",
    "elif User == List[1] and Computer == List[0]:\n",
    "    print(f\"{User} \\nand {Computer} \\nUser WINS\")\n",
    "elif User == List[2] and Computer == List[1]:\n",
    "    print(f\"{User} \\nand {Computer} \\nUser WINS\")\n",
    "elif User == Computer:\n",
    "    print(f\"{User} \\nand {Computer} \\n DRAW\")\n",
    "else:\n",
    "    print(f\"{User} \\nand {Computer} \\nComputer WINS\")\n",
    "   "
   ]
  },
  {
   "cell_type": "code",
   "execution_count": null,
   "id": "d838a6f1",
   "metadata": {},
   "outputs": [],
   "source": []
  }
 ],
 "metadata": {
  "kernelspec": {
   "display_name": "Python 3 (ipykernel)",
   "language": "python",
   "name": "python3"
  },
  "language_info": {
   "codemirror_mode": {
    "name": "ipython",
    "version": 3
   },
   "file_extension": ".py",
   "mimetype": "text/x-python",
   "name": "python",
   "nbconvert_exporter": "python",
   "pygments_lexer": "ipython3",
   "version": "3.9.12"
  }
 },
 "nbformat": 4,
 "nbformat_minor": 5
}
